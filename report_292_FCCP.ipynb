{
  "cells": [
    {
      "cell_type": "markdown",
      "metadata": {
        "id": "nCMlmaTiTt79"
      },
      "source": []
    },
    {
      "cell_type": "markdown",
      "metadata": {
        "id": "Jj4mf4Y3Tt7-"
      },
      "source": [
        "#### Библиотеки для работы с данными\n",
        "\n",
        "будет выдавать ошибки мол библиотека не найдена - удалите # со строки с соответствующей библиотекой"
      ]
    },
    {
      "cell_type": "code",
      "execution_count": null,
      "metadata": {
        "id": "oLc4FXsyTt7_"
      },
      "outputs": [],
      "source": [
        "import sys\n",
        "import re\n",
        "!{sys.executable} -m pip install recordlinkage -q\n",
        "import recordlinkage as rl\n",
        "!{sys.executable} -m pip install xlwings -q\n",
        "import xlwings as xw\n",
        "!{sys.executable} -m pip install openpyxl -q\n",
        "import openpyxl\n",
        "import numpy as np\n",
        "import pandas as pd\n",
        "from datetime import datetime, date\n",
        "#!{sys.executable} -m pip install pyinstaller -q\n",
        "import warnings\n",
        "warnings.filterwarnings(\"ignore\")"
      ]
    },
    {
      "cell_type": "code",
      "execution_count": null,
      "metadata": {
        "id": "nmUCKYAcTt8A"
      },
      "outputs": [],
      "source": [
        "#sys.path"
      ]
    },
    {
      "cell_type": "markdown",
      "metadata": {
        "id": "Q8TD80Z3Tt8A"
      },
      "source": [
        "#### Чтение предоставленных к обработке файлов\n",
        "перез запуском - сверьте название эксель и листа (sheet_name)"
      ]
    },
    {
      "cell_type": "markdown",
      "metadata": {
        "id": "Tyiw9hlOTt8A"
      },
      "source": [
        "этот юлок надо раскомментировать - пока только он рабоьает в гугл коллабе"
      ]
    },
    {
      "cell_type": "code",
      "execution_count": null,
      "metadata": {
        "id": "kKrmyr9fTt8B"
      },
      "outputs": [],
      "source": [
        "#df = pd.read_excel('/content/Актуальный_отчет_292.xlsx', sheet_name = 'Лист1',  engine='openpyxl')\n",
        "#dfFCCP = pd.read_excel('/content/Реестр ФССП.xlsx', engine='openpyxl')"
      ]
    },
    {
      "cell_type": "markdown",
      "metadata": {
        "id": "LmKl-bZ9Tt8B"
      },
      "source": [
        "этот, соответственно, нужно удалить ( на всякий случай проверьте - он изменен и может заработать, \\\n",
        "скорее всего потребуется заменить название файла в нижних двух строках на путь (пкм по загруженному файлу - скопировать путь)"
      ]
    },
    {
      "cell_type": "code",
      "execution_count": null,
      "metadata": {
        "id": "DjP4YFWDTt8B"
      },
      "outputs": [],
      "source": [
        "#в этом блоке функцией просматриваются эксель и берётся из него все записи с указанного листа и записываются в рабочий датафрейм\n",
        "#Если надо просматривать более одного листа - в sheet_name=['первый лист','второй лист' и тд]\n",
        "def xw_excel_to_df(file_path, sheet_name=None, sheet_range=None):\n",
        "    app = xw.App(visible=False)\n",
        "    book = app.books.open(file_path, read_only=True)\n",
        "\n",
        "    if sheet_name is None:\n",
        "        sheet_name = book.sheets[0].name\n",
        "\n",
        "    if sheet_range is None:\n",
        "        data = book.sheets[sheet_name][\"A1\"].expand().value\n",
        "    else:\n",
        "        data = book.sheets[sheet_name][sheet_range].value\n",
        "\n",
        "    df = pd.DataFrame(data=data[1:], columns=data[0])\n",
        "\n",
        "    book.close()\n",
        "    app.quit()\n",
        "\n",
        "    return df\n",
        "\n",
        "df = xw_excel_to_df('Актуальный_отчет_292.xlsx')\n",
        "dfFCCP = xw_excel_to_df('Реестр ФССП.xlsx')"
      ]
    },
    {
      "cell_type": "code",
      "execution_count": null,
      "metadata": {
        "colab": {
          "base_uri": "https://localhost:8080/"
        },
        "id": "FuVLdS_-Tt8B",
        "outputId": "54ed7da5-6f25-46a2-e579-9ccf66b9241f"
      },
      "outputs": [],
      "source": [
        "#Просто вывод количества записей\n",
        "print('Сравнение отчета 292 с реестром ФССП')\n",
        "print('')\n",
        "print('Изначальные данные в эксель-таблицах')\n",
        "print('Количество строк в отчете 292:',len(df))\n",
        "print('Количество записей (всего) в реестре:',len(dfFCCP))\n",
        "print('-----------------------------------------------------')\n",
        "print('')"
      ]
    },
    {
      "cell_type": "markdown",
      "metadata": {
        "id": "vNlvd3ZvTt8C"
      },
      "source": [
        "фильтр для сбора отчета и реестра в 1 файл"
      ]
    },
    {
      "cell_type": "code",
      "execution_count": null,
      "metadata": {
        "id": "5UfMNXeiTt8C"
      },
      "outputs": [],
      "source": [
        "def get_matches(row, df_lev_0, df_lev_1):\n",
        "    if row['level_0'] in df_lev_0.index and row['level_1'] in df_lev_1.index:\n",
        "        row292 = df_lev_0.loc[row['level_0']].reset_index(drop=True)\n",
        "        rowFCCP = df_lev_1.loc[row['level_1']].reset_index(drop=True)\n",
        "        return pd.concat([row292, rowFCCP], ignore_index=True)\n",
        "\n",
        "    else:\n",
        "        return pd.Series()"
      ]
    },
    {
      "cell_type": "markdown",
      "metadata": {
        "id": "yM38LruCTt8D"
      },
      "source": [
        "Функция для  описания разницы значений ИД\\ИП"
      ]
    },
    {
      "cell_type": "code",
      "execution_count": null,
      "metadata": {
        "id": "08Ay-7ppTt8D"
      },
      "outputs": [],
      "source": [
        "def process_data(df):\n",
        "    for index, row in df.iterrows():\n",
        "        if row['ИД формат 292'] != row['ИД формат ФССП']:\n",
        "            df.at[index, 'Аналитика (python)'] = f\"разное ИД у 1 ИП; \"\n",
        "\n",
        "        if row['ИП формат 292'] != row['ИП формат ФССП']:\n",
        "            df.at[index, 'Аналитика (python)'] = f\"разное ИП у 1 ИД; \"\n"
      ]
    },
    {
      "cell_type": "markdown",
      "metadata": {
        "id": "hhoOE4L5Tt8D"
      },
      "source": [
        "#### Предобработка данных\n",
        "\n",
        "перед запуском проверьте корректность названия столбцов\\\n",
        "Дата подачи в суд навсегда переименована в Дата подачи в ИО"
      ]
    },
    {
      "cell_type": "code",
      "execution_count": null,
      "metadata": {
        "id": "VNtu3ZtJTt8D"
      },
      "outputs": [],
      "source": [
        "# Замена двойных пробелов на одинарные\n",
        "df.replace({'  ': ' '}, regex=True, inplace=True)\n",
        "dfFCCP.replace({'  ': ' '}, regex=True, inplace=True)\n",
        "\n",
        "#Переименования (если есть подобные дате подачи в ИО, тогда мне напишите, скажу шаги как 1 раз записать и каждый раз не править)\n",
        "df.rename(columns={'Дата возбуждения': 'Дата возбуждения 292'}, inplace=True)\n",
        "if 'Дата подачи в суд' in df.columns:\n",
        "    df.rename(columns={'Дата подачи в суд': 'Дата подачи в ИО'}, inplace=True)\n",
        "df.rename(columns={'Поставщик (взыскатель)': 'Взыскатель 292'}, inplace=True)"
      ]
    },
    {
      "cell_type": "code",
      "execution_count": null,
      "metadata": {},
      "outputs": [],
      "source": [
        "print('Предобработка данных')\n",
        "print('В процессе предобработке данные очищены от двойных пробелов')\n",
        "print('В отчете - \"Дата возбуждения\" переименована в \"Дата возбуждения 292\",')\n",
        "print('\"Дата подачи в суд\" в \"Дата подачи в ИО\", а \"Поставщик (взыскатель)\" в \"Взыскатель 292\"')\n",
        "print('В случае перманентного изменения дополнительных столбцов - сообщите мне')\n",
        "print('-------------------------------------------------------------------------------------------')"
      ]
    },
    {
      "cell_type": "markdown",
      "metadata": {
        "id": "2F93V3ydTt8D"
      },
      "source": [
        "Даты"
      ]
    },
    {
      "cell_type": "code",
      "execution_count": null,
      "metadata": {},
      "outputs": [],
      "source": [
        "# Все столбцы с датами в отчете\n",
        "date_columns_292 = ['Дата вынесения решения', 'Дата вступления в силу', 'Дата формирования ИП', 'Дата подачи в ИО',\n",
        "                     'Период с', 'Период по', 'Дата получения листа на руки', 'Дата рождения ответчика']\n",
        "\n",
        "# Все столбцы с датами в реестре\n",
        "date_columns_FCCP = ['Дата возбуждения', 'Дата выдачи ИД']\n",
        "\n",
        "print('')\n",
        "print('Была произведена обработка дат в следующих столбцах:')\n",
        "print('Для Отчета:')\n",
        "print(' \"Дата вынесения решения\", \"Дата вступления в силу\", \"Дата формирования ИП\", \"Дата подачи в ИО\",')\n",
        "print('\"Период с\", \"Период по\", \"Дата получения листа на руки\", \"Дата рождения ответчика\"')\n",
        "print('Для реестра:')\n",
        "print(' \"Дата возбуждения\", \"Дата выдачи ИД\"')\n",
        "print('')"
      ]
    },
    {
      "cell_type": "code",
      "execution_count": null,
      "metadata": {},
      "outputs": [],
      "source": [
        "df[date_columns_292].replace({' ': ''}, regex=True, inplace=True)\n",
        "\n",
        "for column in date_columns_292:\n",
        "    df[column] = df[column].fillna('2050-12-30')\n",
        "\n",
        "# Преобразование всех значений в 'datetime64[ns]', замена недопустимых значений на '2050-12-30'\n",
        "for column in date_columns_292:\n",
        "    df[column] = pd.to_datetime(df[column], errors='coerce')\n",
        "\n",
        "# Преобразование дат, чьи года менее 1900 и выше 2050, в '2050-12-30'\n",
        "for column in date_columns_292:\n",
        "    df[column] = df[column].apply(lambda x: '2050-12-30' if pd.to_datetime(x, errors='coerce').year < 1900 or pd.to_datetime(x, errors='coerce').year > 2050 else x)\n",
        "\n",
        "# Вывод всех строк, не соответствующих формату r'(\\d{4}-\\d{2}-\\d{2})'\n",
        "#for column in date_columns_292:\n",
        "#    incorrect_dates = df[~df[column].astype(str).str.match(r'^\\d{4}-\\d{2}-\\d{2}$')]\n",
        "#    print(f\"Строки с некорректным форматом даты в столбце {column}:\")\n",
        "#    display(incorrect_dates)"
      ]
    },
    {
      "cell_type": "code",
      "execution_count": null,
      "metadata": {},
      "outputs": [],
      "source": [
        "print('А именно:')\n",
        "print('- Чистка от пробелов в столбцах')\n",
        "print('- Замена пустых ячеек на \"2050-12-30\"')\n",
        "print('- Замена годов ниже 1900 и выше 2050 на 2050')\n",
        "print('- Преобразование в формат даты (из строчного и формата дата + время)')\n",
        "print(' В остальных столбцах произведена замена пустых значений на \"[EMPTY]\"')\n",
        "print('')"
      ]
    },
    {
      "cell_type": "code",
      "execution_count": null,
      "metadata": {},
      "outputs": [],
      "source": [
        "dfFCCP[date_columns_FCCP].replace({' ': ''}, regex=True, inplace=True)\n",
        "\n",
        "for column in date_columns_FCCP:\n",
        "    dfFCCP[column] = dfFCCP[column].fillna('2050-12-30')\n",
        "\n",
        "for column in date_columns_FCCP:\n",
        "    dfFCCP[column] = pd.to_datetime(dfFCCP[column], errors='coerce').fillna('2050-12-30')\n",
        "\n",
        "for column in date_columns_FCCP:\n",
        "    dfFCCP[column] = dfFCCP[column].apply(lambda x: '2050-12-30' if pd.to_datetime(x, errors='coerce').year < 1900 or pd.to_datetime(x, errors='coerce').year > 2050 else x)\n",
        "\n",
        "#for column in date_columns_FCCP:\n",
        "#    incorrect_dates = dfFCCP[~dfFCCP[column].astype(str).str.match(r'^\\d{4}-\\d{2}-\\d{2}$')]\n",
        "#    print(f\"Строки с некорректным форматом даты в столбце {column}:\")\n",
        "#    display(incorrect_dates)"
      ]
    },
    {
      "cell_type": "code",
      "execution_count": null,
      "metadata": {
        "id": "qir5OPUmTt8E"
      },
      "outputs": [],
      "source": [
        "# Проверка и замена непустых значений\n",
        "df.replace(r'^\\s*$', '[EMPTY]', regex=True, inplace=True)\n",
        "dfFCCP.replace(r'^\\s*$', '[EMPTY]', regex=True, inplace=True)"
      ]
    },
    {
      "cell_type": "markdown",
      "metadata": {
        "id": "QEGixsjoTt8E"
      },
      "source": [
        "Должник\\взыскатель"
      ]
    },
    {
      "cell_type": "code",
      "execution_count": null,
      "metadata": {
        "id": "DvX632xSTt8E"
      },
      "outputs": [],
      "source": [
        "#Для 292\n",
        "df['Взыскатель 292'] = df['Взыскатель 292'].str.lower().str.strip()\n",
        "df['Взыскатель 292'] = df['Взыскатель 292'].fillna('ПАО \"Т Плюс\"')\n",
        "df['Взыскатель 292'] = df['Взыскатель 292'].apply(lambda x: 'Оренбургский филиал АО \"ЭнергосбыТ Плюс\"' if 'энергосбыт плюс' in x else ('ПАО \"Т Плюс\"' if 'т плюс' in x else x))\n",
        "\n",
        "# Преобразование многообразия взыскателей в Оренбургский филиал АО \"ЭнергосбыТ Плюс\" или ПАО \"Т Плюс\"\n",
        "dfFCCP['Взыскатель ФССП'] = dfFCCP['Взыскатель'].str.lower().str.strip()\n",
        "dfFCCP['Взыскатель ФССП'] = dfFCCP['Взыскатель ФССП'].apply(lambda x: 'Оренбургский филиал АО \"ЭнергосбыТ Плюс\"' if 'энергосбыт плюс' in x else 'ПАО \"Т Плюс\"')\n",
        "\n",
        "\n",
        "\n",
        "df['Должник 292'] = np.where(df['Ответчик'].notnull(), df['Ответчик'].str.lower(), df['ФИО должника'].str.lower())\n",
        "df['Должник 292']=df['Должник 292'].str.strip()\n",
        "\n",
        "dfFCCP['Должник ФССП'] = np.where(dfFCCP['Должник'].notnull(), dfFCCP['Должник'].str.lower(),\n",
        "                               dfFCCP['Фамилия должника'].str.lower() + ' ' + dfFCCP['Имя должника'].str.lower() + ' ' + dfFCCP['Отчество должника'].str.lower())\n",
        "dfFCCP['Должник ФССП']=dfFCCP['Должник ФССП'].str.strip()"
      ]
    },
    {
      "cell_type": "code",
      "execution_count": null,
      "metadata": {},
      "outputs": [],
      "source": [
        "print('Поставщик в отчете был либо изменен на Оренбургский филиал АО \"ЭнергосбыТ Плюс\", либо ПАО \"Т Плюс\",')\n",
        "print('либо оставленн без изменений для всяких ООО и ТСЖ')\n",
        "print('В реестре всё, что не оренбургский филиал - всё ПАО')\n",
        "print('')\n",
        "print('Должник в отчете почищен от пробелов')\n",
        "print('В реестре либо взят из столбца \"Должник\", либо собран из ФИО.')\n",
        "print('')"
      ]
    },
    {
      "cell_type": "markdown",
      "metadata": {
        "id": "stSTnN3QTt8E"
      },
      "source": [
        "№ ИП\\судебного дела (292)"
      ]
    },
    {
      "cell_type": "code",
      "execution_count": null,
      "metadata": {
        "id": "4baNRxlnTt8E"
      },
      "outputs": [],
      "source": [
        "df.replace('//', '/', regex=True, inplace=True)\n",
        "df['Номер ИП'].replace(' ', '', regex=True, inplace=True)\n",
        "df['Номер ИП'] = df['Номер ИП'].str.strip()\n",
        "# Приведение ИП к единому формату\n",
        "pattern_ip = r'(\\d{1,6}/\\d{2,4}/\\d{5,6})(-ИП)?'\n",
        "df['ИП формат 292'] = df['Номер ИП'].str.extract(pattern_ip, expand=False).apply(lambda x: f\"{x[0]}-ИП\" if pd.notnull(x[0]) else None, axis=1)\n",
        "\n",
        "df['Номер судебного дела'] = df['Номер судебного дела'].str.replace(' ', '')\n",
        "df['Номер судебного дела'] = df['Номер судебного дела'].str.strip()\n",
        "\n",
        "# Приедение ИД к единому формату\n",
        "pattern_id = r'(\\d{1,2}-\\d{3,4}/\\d{2,3})(/\\d{2,4})|\\\n",
        "                (\\d{1,2}-\\d{1,2}-\\d{4,5})(/\\d{2,4})|\\\n",
        "                (\\D+\\d{9})|\\\n",
        "                (А47-\\d{3,4}/\\d{2,4})|\\\n",
        "                (\\d{1,3}-\\d{1,5})(?:/\\d{2,4})?|\\\n",
        "                (\\d{1,2}-{2,5}//d{2,4})|\\\n",
        "                (А47-\\d{3,4}/\\d{2,4})|\\\n",
        "                (\\d{1,2}-{2,5}//d{1,3}//d{2,4})|\\\n",
        "                (\\D+№\\d{9})|\\\n",
        "                (\\d{1,3}-\\d{1,5})(?:/\\d{2,4})?'\n",
        "                \n",
        "df['ИД формат 292'] = df['Номер судебного дела'].str.extract(pattern_id, expand=False).apply(lambda x: x[0] if pd.notnull(x[0]) else '[EMPTY]', axis=1)"
      ]
    },
    {
      "cell_type": "code",
      "execution_count": null,
      "metadata": {},
      "outputs": [],
      "source": [
        "print('В ИП почищены пробелы, // и видоизменено так, чтобы значение всегда имело \"-ИП\" на конце')\n",
        "print('Для ИД всё, что не входит в паттерн ниже выходит в ошибки/пустоты')\n",
        "print('pattern_id = r(\\d{1,2}-\\d{3,4}/\\d{2,3})(/\\d{2,4})|')\n",
        "print('                (\\d{1,2}-\\d{1,2}-\\d{4,5})(/\\d{2,4})|')\n",
        "print('                (\\D+\\d{9})|')\n",
        "print('                (А47-\\d{3,4}/\\d{2,4})|')\n",
        "print('                (\\d{1,3}-\\d{1,5})(?:/\\d{2,4})?|')\n",
        "print('                (\\d{1,2}-{2,5}//d{2,4})|')\n",
        "print('                (А47-\\d{3,4}/\\d{2,4})|')\n",
        "print('                (\\d{1,2}-{2,5}//d{1,3}//d{2,4})|')\n",
        "print('                (\\D+№\\d{9})|')\n",
        "print('                (\\d{1,3}-\\d{1,5})(?:/\\d{2,4})?')\n",
        "print('Для уточнения \\d{...} - возможное количество цифр подряд')\n",
        "print('\\D+ - любое количество букв')\n",
        "print('? - значение в круглой скобке не обязано существовать')\n",
        "print('')\n",
        "print('----------------------------------------------------------------------------------------------')\n",
        "print('')"
      ]
    },
    {
      "cell_type": "markdown",
      "metadata": {
        "id": "ZHOGk8q5Tt8E"
      },
      "source": [
        "№ ИП\\судебного дела (FCCP)"
      ]
    },
    {
      "cell_type": "code",
      "execution_count": null,
      "metadata": {
        "id": "6K_xpaxbTt8E"
      },
      "outputs": [],
      "source": [
        "dfFCCP.replace('//', '/', regex=True, inplace=True)\n",
        "dfFCCP['Регистрационный номер ИП'].replace(' ', '', regex=True, inplace=True)\n",
        "dfFCCP['Регистрационный номер ИП']=dfFCCP['Регистрационный номер ИП'].str.strip()\n",
        "dfFCCP['ИП формат ФССП'] = dfFCCP['Регистрационный номер ИП'].str.extract(pattern_ip, expand=False).apply(lambda x: f\"{x[0]}-ИП\" if pd.notnull(x[0]) else None, axis=1)\n",
        "\n",
        "dfFCCP['Номер ИД'] = dfFCCP['Номер ИД'].str.replace(' ', '')\n",
        "dfFCCP['Номер ИД'] = dfFCCP['Номер ИД'].str.strip()\n",
        "dfFCCP['ИД формат ФССП'] = dfFCCP['Номер ИД'].str.extract(pattern_id, expand=False).apply(lambda x: x[0] if pd.notnull(x[0]) else '[EMPTY]', axis=1)\n",
        "\n",
        "# Фильтрация по статусу Возбуждено или Подано\n",
        "filtered_df292_1 = df[df[\"Статус ИП\"].isin([\"Возбуждено\", \"Подано\"])].reset_index()"
      ]
    },
    {
      "cell_type": "code",
      "execution_count": null,
      "metadata": {
        "id": "sVufoMyPTt8E"
      },
      "outputs": [],
      "source": [
        "# Проверка и замена пустых значений\n",
        "filtered_df292_1.fillna('[EMPTY]', inplace=True)\n",
        "dfFCCP.fillna('[EMPTY]', inplace=True)"
      ]
    },
    {
      "cell_type": "code",
      "execution_count": null,
      "metadata": {
        "colab": {
          "base_uri": "https://localhost:8080/"
        },
        "id": "9fYskftSTt8E",
        "outputId": "bc3d0d93-4812-4ce8-f728-d424dfcc5f8a"
      },
      "outputs": [],
      "source": [
        "print('Количество строк после первоначальной фильтрации')\n",
        "print('Количесво строк в отфильтрованном (только со статусом возбуждено/подано) отчете 292:',len(filtered_df292_1))\n",
        "print('Количество строк в отфильтрованном реестре:',len(dfFCCP))\n",
        "print('-----------------------------------------------------')\n",
        "print('')"
      ]
    },
    {
      "cell_type": "markdown",
      "metadata": {
        "id": "5kHz0vD5Tt8F"
      },
      "source": [
        "#### Данные без ИД и ИП\n",
        "\n",
        "Здесь я отрезаю данные, у которых нет ни ИП, ни ИД, а так же строки без должников - для дальнейших уточнений"
      ]
    },
    {
      "cell_type": "code",
      "execution_count": null,
      "metadata": {
        "id": "q5SNCqrDTt8F"
      },
      "outputs": [],
      "source": [
        "# отбор данных без взыскателя в отчете\n",
        "empty_data_292_debtor = filtered_df292_1[(filtered_df292_1['Должник 292'].isnull())|(filtered_df292_1['Должник 292'] == '[EMPTY]')]\n",
        "\n",
        "# Убираем их из основного поиска\n",
        "filtered_df292_02 = filtered_df292_1[~filtered_df292_1.index.isin(empty_data_292_debtor.index)]\n",
        "\n",
        "# отбор данных без взыскателя в реестре\n",
        "empty_data_FCCP_debtor = dfFCCP[(dfFCCP['Должник ФССП'].isnull())|(dfFCCP['Должник ФССП'] == '[EMPTY]')]\n",
        "\n",
        "# Убираем их из основного поиска\n",
        "dfFCCP_02 = dfFCCP[~dfFCCP.index.isin(empty_data_FCCP_debtor.index)]\n"
      ]
    },
    {
      "cell_type": "code",
      "execution_count": null,
      "metadata": {
        "id": "Q4btAZvSTt8F"
      },
      "outputs": [],
      "source": [
        "# отбор данных без ИД и ИП в отчете\n",
        "empty_data_292 = filtered_df292_1[((filtered_df292_1['ИД формат 292'].isnull())| (filtered_df292_1['ИД формат 292'] == '[EMPTY]')) & ((filtered_df292_1['ИП формат 292'].isnull())| (filtered_df292_1['ИП формат 292'] == '[EMPTY]'))]\n",
        "\n",
        "# Убираем их из основного поиска\n",
        "filtered_df292_2 = filtered_df292_02[~filtered_df292_02.index.isin(empty_data_292.index)]\n",
        "\n",
        "# отбор данных без ИД и ИП в реестре\n",
        "empty_data_FCCP = dfFCCP[((dfFCCP['ИД формат ФССП'].isnull())| (dfFCCP['ИД формат ФССП'] == '[EMPTY]')) & ((dfFCCP['ИП формат ФССП'].isnull())| (dfFCCP['ИП формат ФССП'] == '[EMPTY]'))]\n",
        "\n",
        "# Убираем их из основного поиска\n",
        "dfFCCP_2 = dfFCCP_02[~dfFCCP_02.index.isin(empty_data_FCCP.index)]"
      ]
    },
    {
      "cell_type": "code",
      "execution_count": null,
      "metadata": {},
      "outputs": [],
      "source": [
        "filtered_ed_matches_12 = empty_data_292.loc[\n",
        "    ((empty_data_292['ИД формат 292'] != '[EMPTY]') | \n",
        "    (empty_data_292['ИП формат 292'] != '[EMPTY]'))\n",
        "]\n",
        "\n",
        "# Вывод выбранных данных\n",
        "#display(filtered_ed_matches_12.loc[:, ['Дата подачи в ИО', 'Должник 292', 'ИД формат 292', 'ИП формат 292',  'Взыскатель 292']])"
      ]
    },
    {
      "cell_type": "code",
      "execution_count": null,
      "metadata": {},
      "outputs": [],
      "source": [
        "filtered_ed_matches_22 = empty_data_FCCP.loc[\n",
        "    ((empty_data_FCCP['ИД формат ФССП'] != '[EMPTY]') |\n",
        "    (empty_data_FCCP['ИП формат ФССП'] != '[EMPTY]'))]\n",
        "\n",
        "# Вывод выбранных данных\n",
        "#display(filtered_ed_matches_22.loc[:, ['Дата возбуждения', 'Должник ФССП', 'ИД формат ФССП', 'Взыскатель ФССП', 'ИП формат ФССП']])"
      ]
    },
    {
      "cell_type": "code",
      "execution_count": null,
      "metadata": {
        "colab": {
          "base_uri": "https://localhost:8080/"
        },
        "id": "uqOGheaPTt8F",
        "outputId": "bd822942-225e-4e9c-8eb6-21b20d8555ab"
      },
      "outputs": [],
      "source": [
        "print('Здесь я отрезаю данные, у которых нет ни ИП, ни ИД, а так же строки без должников - для дальнейших уточнений')\n",
        "print('Количесво строк без ИД и ИП в отчете 292:',len(empty_data_292))\n",
        "print('Количество строк без ИД и ИП в реестре:',len(empty_data_FCCP))\n",
        "print('----------------------------------------------------')\n",
        "print('Количесво строк в отфильтрованном отчете 292:',len(filtered_df292_2))\n",
        "print('Количество строк в отфильтрованном реестре:',len(dfFCCP_2))\n",
        "print('----------------------------------------------------')\n",
        "print('')\n"
      ]
    },
    {
      "cell_type": "markdown",
      "metadata": {
        "id": "SeP5CvH7Tt8F"
      },
      "source": [
        "сравнение с пустыми ИД и ИП"
      ]
    },
    {
      "cell_type": "code",
      "execution_count": null,
      "metadata": {
        "colab": {
          "base_uri": "https://localhost:8080/",
          "height": 373
        },
        "id": "9JTbwH8ZTt8F",
        "outputId": "a9b5363c-e877-4afe-bc4d-24868207fa00"
      },
      "outputs": [],
      "source": [
        "indexer = rl.Index()\n",
        "indexer.block(left_on=['Должник 292', 'Взыскатель 292'], right_on=['Должник ФССП', 'Взыскатель ФССП'])\n",
        "debtor = indexer.index(empty_data_292, empty_data_FCCP)\n",
        "\n",
        "compare = rl.Compare()\n",
        "compare.exact('Должник 292', 'Должник ФССП', label = 'Должник итог')\n",
        "compare.exact('Взыскатель 292', 'Взыскатель ФССП', label = 'Взыскатель итог')\n",
        "features = compare.compute(debtor, empty_data_292, empty_data_FCCP)\n",
        "potential_matches_01 = features[features.sum(axis=1) > 1].reset_index()\n",
        "print(len(debtor), len(potential_matches_01))\n",
        "\n",
        "if potential_matches_01.empty:\n",
        "    ed_matches = pd.DataFrame()\n",
        "else:\n",
        "    ed_matches = potential_matches_01.apply(get_matches, df_lev_0=empty_data_292, df_lev_1=empty_data_FCCP, axis=1).reset_index(drop=True)\n",
        "    ed_matches.columns = empty_data_292.columns.append(empty_data_FCCP.columns)\n",
        "    if 'index' in ed_matches.columns:\n",
        "        ed_matches = ed_matches.drop('index', axis=1)\n",
        "\n",
        "empty_data_292_1 = empty_data_292.copy().drop(potential_matches_01['level_0'].array).reset_index(drop=True)\n",
        "empty_data_FCCP_1 = empty_data_FCCP.copy().drop(potential_matches_01['level_1'].array).reset_index(drop=True)\n",
        "print('Количество найденных соответствий среди пустых:', potential_matches_01)\n",
        "print('')"
      ]
    },
    {
      "cell_type": "code",
      "execution_count": null,
      "metadata": {},
      "outputs": [],
      "source": [
        "indexer = rl.Index()\n",
        "indexer.block(left_on=['Должник 292', 'Взыскатель 292'], right_on=['Должник ФССП', 'Взыскатель ФССП'])\n",
        "debtor = indexer.index(empty_data_292_1, dfFCCP_2)\n",
        "\n",
        "compare = rl.Compare()\n",
        "compare.exact('Должник 292', 'Должник ФССП', label = 'Должник итог')\n",
        "compare.exact('Взыскатель 292', 'Взыскатель ФССП', label = 'Взыскатель итог')\n",
        "features = compare.compute(debtor, empty_data_292_1, dfFCCP_2)\n",
        "potential_matches_02 = features[features.sum(axis=1) == 2].reset_index()\n",
        "print(len(debtor), len(potential_matches_02))\n",
        "\n",
        "if potential_matches_02.empty:\n",
        "    ed_matches_2 = pd.DataFrame()\n",
        "else:\n",
        "    ed_matches_2 = potential_matches_02.apply(get_matches, df_lev_0=empty_data_292_1, df_lev_1=dfFCCP_2, axis=1).reset_index(drop=True)\n",
        "    ed_matches_2.columns = empty_data_292_1.columns.append(dfFCCP_2.columns)\n",
        "    if 'index' in ed_matches_2.columns:\n",
        "        ed_matches_2 = ed_matches_2.drop('index', axis=1)\n",
        "\n",
        "empty_data_292_2 = empty_data_292_1.copy().drop(potential_matches_02['level_0'].array).reset_index(drop=True)\n",
        "print('Количество найденных соответствий некорректных записей отчета с реестром:', len(potential_matches_02))\n",
        "print('P.S. - найденные не будут вырезаться из вариантов в реестре')\n",
        "print('')"
      ]
    },
    {
      "cell_type": "code",
      "execution_count": null,
      "metadata": {},
      "outputs": [],
      "source": [
        "filtered_ed_matches_2 = ed_matches_2.loc[\n",
        "    ((ed_matches_2['ИД формат ФССП'] != '[EMPTY]') & \n",
        "    (ed_matches_2['ИП формат ФССП'] != '[EMPTY]')) | \n",
        "    ((ed_matches_2['ИД формат 292'] != '[EMPTY]') & \n",
        "    (ed_matches_2['ИП формат 292'] != '[EMPTY]'))\n",
        "]\n",
        "\n",
        "# Вывод выбранных данных\n",
        "#display(filtered_ed_matches_2.loc[:, ['Дата подачи в ИО', 'Дата возбуждения','Должник 292', 'ИД формат 292', 'Взыскатель 292', 'ИП формат 292', 'Должник ФССП', 'ИД формат ФССП', 'Взыскатель ФССП', 'ИП формат ФССП']])"
      ]
    },
    {
      "cell_type": "code",
      "execution_count": null,
      "metadata": {},
      "outputs": [],
      "source": [
        "combined_ed_matches = pd.concat([ed_matches, ed_matches_2], ignore_index=True)\n",
        "print('Всего найдено соответствий по должнику и взыскателю среди пустых - ', len(combined_ed_matches))\n",
        "print('')\n",
        "print('Что там дубликатов соразмерно разнообразию дат')\n",
        "print('Я их чистить не стал т к соответствия он нормально нашел - а данные в БД в любом случае желательно корректно заполнить..)')\n",
        "print('Надо будет ограничить поиск непосредственно по максимально большим датам - напишите')\n",
        "print('Аналогично про сверку некорректных дат для некорректно заполненных сравниваемых строк')\n",
        "print('')\n",
        "print('---------------------------------------------------------------------------------------------------------------------------')\n",
        "print('')"
      ]
    },
    {
      "cell_type": "markdown",
      "metadata": {
        "id": "A5Lc2LuSTt8F"
      },
      "source": [
        "все пустые вместе с частичными соответствиями будут записаны в 1 файл, блок с этим в конце частичных соответствий"
      ]
    },
    {
      "cell_type": "markdown",
      "metadata": {
        "id": "ivRZ-VnZTt8F"
      },
      "source": [
        "#### Блоки полного сравнения\n",
        "\n",
        "перед запуском проверьте корректность названия столбцов"
      ]
    },
    {
      "cell_type": "code",
      "execution_count": null,
      "metadata": {
        "id": "gOETtESFTt8G"
      },
      "outputs": [],
      "source": [
        "indexer = rl.Index()\n",
        "indexer.block(left_on=['Должник 292', 'ИД формат 292', 'Взыскатель 292'], right_on=['Должник ФССП', 'ИД формат ФССП', 'Взыскатель ФССП'])\n",
        "debtor = indexer.index(filtered_df292_2, dfFCCP_2)\n",
        "\n",
        "compare = rl.Compare()\n",
        "compare.string('Должник 292', 'Должник ФССП', label = 'Должник итог')\n",
        "compare.string('ИД формат 292', 'ИД формат ФССП', label = 'Номер ИД итог')\n",
        "compare.string('ИП формат 292', 'ИП формат ФССП', label = 'Номер ИП итог')\n",
        "compare.string('Взыскатель 292', 'Взыскатель ФССП', label = 'Взыскатель итог')\n",
        "features = compare.compute(debtor, filtered_df292_1, dfFCCP)\n",
        "potential_matches = features[(features['Должник итог'] == 1) & (features['Номер ИД итог'] == 1) & (features['Взыскатель итог'] == 1)].reset_index()\n",
        "\n",
        "print('Блок полного сравнения')\n",
        "print('Количество найденных соответствий по ИД:', len(potential_matches))\n",
        "print('Здесь выделяются строки, чьи должник ИД и взыскатель равны')"
      ]
    },
    {
      "cell_type": "markdown",
      "metadata": {
        "id": "WwjwDMOJTt8H"
      },
      "source": [
        "#### Немного анализа через питон\n",
        "\n",
        "1 блок - создает эксельку с найденными строками в отчетах (level_0 - отчет, level_1 - реестр)\\\n",
        "2 блок - просмотр рассматриваемых строк в отчете на определенной строке\\\n",
        "3 блок - просмотр рассматриваемых строк в реестре на определенной строке\\\n",
        "если надо - раскомментируете"
      ]
    },
    {
      "cell_type": "code",
      "execution_count": null,
      "metadata": {
        "id": "mQatUug6Tt8H"
      },
      "outputs": [],
      "source": [
        "                        # создает эксель с найденными строками в отчетах (level_0 - отчет, level_1 - реестр)\n",
        "#full_matches = potential_matches.apply(get_matches, df_lev_0=filtered_df292_2, df_lev_1=dfFCCP_2, axis=1).reset_index(drop=True)\n",
        "#full_matches.columns = filtered_df292_2.columns.append(dfFCCP_2.columns)\n",
        "#full_matches = full_matches.drop('index', axis=1)\n",
        "#print('Уникальных ФИО:', full_matches['Должник 292'].nunique())\n",
        "\n",
        "#with pd.ExcelWriter('Полные соответствия (строки).xlsx') as writer:\n",
        "#    full_matches.to_excel(writer, sheet_name='Полные соответствия', index=False, engine='openpyxl', startrow=0, startcol=0)\n",
        "#    potential_matches.to_excel(writer, sheet_name='строки', index=False, engine='openpyxl', startrow=0, startcol=0)"
      ]
    },
    {
      "cell_type": "code",
      "execution_count": null,
      "metadata": {
        "id": "GxbEpN8UTt8O"
      },
      "outputs": [],
      "source": [
        "# print(filtered_df292_2.loc[136, ['Должник 292', 'ИД формат 292', 'Взыскатель 292', 'ИП формат 292']])"
      ]
    },
    {
      "cell_type": "code",
      "execution_count": null,
      "metadata": {
        "id": "kDNAzbGMTt8P"
      },
      "outputs": [],
      "source": [
        "#print(dfFCCP_2.loc[71561, ['Должник ФССП', 'ИД формат ФССП', 'Взыскатель ФССП', 'ИП формат ФССП']])"
      ]
    },
    {
      "cell_type": "code",
      "execution_count": null,
      "metadata": {
        "id": "PtCxoWLSTt8P"
      },
      "outputs": [],
      "source": [
        "non_matches_1_1 = filtered_df292_2.copy().drop(potential_matches['level_0'].array).reset_index(drop=True)\n",
        "non_fc_matches_1_1 = dfFCCP_2.copy().drop(potential_matches['level_1'].array).reset_index(drop=True)\n",
        "\n",
        "matches = potential_matches.apply(get_matches, df_lev_0=filtered_df292_2, df_lev_1=dfFCCP_2, axis=1)\n",
        "matches.columns = filtered_df292_1.columns.append(dfFCCP.columns)\n",
        "matches = matches.drop('index', axis=1)\n",
        "process_data(matches)"
      ]
    },
    {
      "cell_type": "code",
      "execution_count": null,
      "metadata": {
        "id": "8uLxFO4OTt8P"
      },
      "outputs": [],
      "source": [
        "indexer = rl.Index()\n",
        "indexer.block(left_on=['Должник 292', 'ИП формат 292', 'Взыскатель 292'], right_on=['Должник ФССП', 'ИП формат ФССП', 'Взыскатель ФССП'])\n",
        "debtor = indexer.index(non_matches_1_1, non_fc_matches_1_1)\n",
        "\n",
        "compare = rl.Compare()\n",
        "compare.string('Должник 292', 'Должник ФССП', label = 'Должник итог')\n",
        "compare.string('ИД формат 292', 'ИД формат ФССП', label = 'Номер ИД итог')\n",
        "compare.string('ИП формат 292', 'ИП формат ФССП', label = 'Номер ИП итог')\n",
        "compare.string('Взыскатель 292', 'Взыскатель ФССП', label = 'Взыскатель итог')\n",
        "features2 = compare.compute(debtor, non_matches_1_1, non_fc_matches_1_1)\n",
        "potential_matches2 = features2[(features2['Должник итог'] == 1) & (features2['Номер ИП итог'] == 1) & (features2['Взыскатель итог'] == 1)].reset_index()\n",
        "\n",
        "print('Количество найденных соответствий по ИП:', len(potential_matches2))\n",
        "print('Здесь выделяются строки, чьи должник ИП и взыскатель равны')"
      ]
    },
    {
      "cell_type": "markdown",
      "metadata": {
        "id": "mESrz117Tt8P"
      },
      "source": [
        "Упрощенный аналог анализа для ИП\n",
        "\n",
        "Если что, это можно использовать в любых блоках:\n",
        "- добавляете три блока через + слева наверху\n",
        "- копируете эти строки туда\n",
        "- удаляете все знаки # (т е знак комментария)\n",
        "- заменяете 'название датафрейма'.loc на названия из строки debtor = indexer.index(датафрейм отчета, датафрейм реестра)\n",
        "- номера строк берутся на основе level_0 и level_1 соответственно"
      ]
    },
    {
      "cell_type": "code",
      "execution_count": null,
      "metadata": {
        "id": "sR4T_61vTt8P"
      },
      "outputs": [],
      "source": [
        "# potential_matches2"
      ]
    },
    {
      "cell_type": "code",
      "execution_count": null,
      "metadata": {
        "id": "eu0BYd_wTt8P"
      },
      "outputs": [],
      "source": [
        "# print(non_matches.loc[99, ['Должник 292', 'Взыскатель 292', 'ИД формат 292', 'ИП формат 292']])"
      ]
    },
    {
      "cell_type": "code",
      "execution_count": null,
      "metadata": {
        "id": "blRXguwGTt8P"
      },
      "outputs": [],
      "source": [
        "# print(non_fc_matches.loc[229877, ['Должник ФССП', 'Взыскатель ФССП', 'ИД формат ФССП', 'ИП формат ФССП']])"
      ]
    },
    {
      "cell_type": "code",
      "execution_count": null,
      "metadata": {
        "id": "X5konZQmTt8P"
      },
      "outputs": [],
      "source": [
        "non_mathes_1_2 = non_matches_1_1.drop(potential_matches2['level_0'].array)\n",
        "non_mathes_1_2 = non_mathes_1_2.drop('index',axis=1)\n",
        "non_fc_matches_1_2 = non_fc_matches_1_1.drop(potential_matches2['level_1'].array).reset_index(drop=True)\n",
        "\n",
        "matches2 = potential_matches2.apply(get_matches, df_lev_0=non_matches_1_1, df_lev_1=non_fc_matches_1_1, axis=1).reset_index(drop=True)\n",
        "matches2.columns = non_matches_1_1.columns.append(non_fc_matches_1_1.columns)\n",
        "matches2 = matches2.drop('index', axis=1)\n",
        "process_data(matches2)"
      ]
    },
    {
      "cell_type": "code",
      "execution_count": null,
      "metadata": {
        "id": "dAut9l6tTt8Q"
      },
      "outputs": [],
      "source": [
        "# Сбор всех найденных строк воедино\n",
        "matches_all = pd.concat([matches, matches2], ignore_index=True)\n",
        "\n",
        "# Отрезаем некорректные даты и завершаем обработку найденных соответствий\n",
        "matches_all_1 = matches_all.loc[(matches_all['Дата подачи в ИО'] < matches_all['Дата возбуждения'])]\n",
        "\n",
        "# Подготовка к формированию неявных соответствий 1\n",
        "non_matches_fin_0 = matches_all[~matches_all.index.isin(matches_all_1.index)]\n",
        "non_matches_fin_0['Аналитика (python)'] = 'ошибка в дате'\n",
        "non_matches_fin_0['Несоответствие'] = 'Дата возбуждения больше даты подачи в ИО'\n",
        "\n",
        "print('Количество строк в сборной таблице после чистки некорректных дат:', len(matches_all_1))\n",
        "print('Количество строк с некорректными датами:', len(non_matches_fin_0))\n",
        "print('P.S. - заполнитель (2050 год) я больше не вырезаю - теперь он портит статистику со всем возможным усердием')\n",
        "print('-----------------------------------------------------------------')\n",
        "print('')"
      ]
    },
    {
      "cell_type": "code",
      "execution_count": null,
      "metadata": {
        "id": "l5-mBUiyTt8Q"
      },
      "outputs": [],
      "source": [
        "print('Итоговое количество записей отчет:', len(matches_all_1))\n",
        "print('Итоговое количество должников отчет:', matches_all_1['ID ИП'].nunique())\n",
        "print('Изменил проверку уникальных на проверку по ID ИП')\n",
        "print('')\n",
        "print('--------------------------------------------------------------------')\n",
        "print('')"
      ]
    },
    {
      "cell_type": "markdown",
      "metadata": {
        "id": "lyevy6CJTt8Q"
      },
      "source": [
        "как вы видите - разница есть\\\n",
        "часть этого приходится на разные заявления на одного должника, но часть из этого, возможно, дубли\\\n",
        "или более точно - записи из отчета, которые нашли более одного соответствия в реестре на основе предоставленных 4 параметров\\\n",
        "без доп. параметров отделить одно от другого можно только ручками\\\n",
        "если у вас есть предложение, какой ещё столбец можно использовать для отрезания подобных записей - с удовольствием добью автоматизацию."
      ]
    },
    {
      "cell_type": "code",
      "execution_count": null,
      "metadata": {
        "id": "iMPfb3RbTt8R"
      },
      "outputs": [],
      "source": [
        "print('как вы видите - разница есть')\n",
        "print('часть этого приходится на разные заявления на одного должника, но часть из этого, возможно, дубли')\n",
        "print('или более точно - записи из отчета, которые нашли более одного соответствия в реестре на основе предоставленных 4 параметров')\n",
        "print('без доп. параметров отделить одно от другого можно только ручками')\n",
        "print('если у вас есть предложение, какой ещё столбец можно использовать для отрезания подобных записей - с удовольствием добью автоматизацию.')\n",
        "print('----------------------------------------------------------------------------------------------------------------------------------------')\n",
        "print('')"
      ]
    },
    {
      "cell_type": "markdown",
      "metadata": {
        "id": "bIvbrApoTt8R"
      },
      "source": [
        "#### Блок частичного сравнения\n",
        "\n",
        "перед запуском проверьте корректность названия столбцов"
      ]
    },
    {
      "attachments": {},
      "cell_type": "markdown",
      "metadata": {
        "id": "r57agclhTt8R"
      },
      "source": [
        "Несоответствие взыскателей (ИП)"
      ]
    },
    {
      "cell_type": "code",
      "execution_count": null,
      "metadata": {
        "id": "6ADt3f6YTt8R"
      },
      "outputs": [],
      "source": [
        "indexer = rl.Index()\n",
        "indexer.block(left_on=['Должник 292', 'ИП формат 292'], right_on=['Должник ФССП', 'ИП формат ФССП'])\n",
        "debtor = indexer.index(non_mathes_1_2, non_fc_matches_1_2)\n",
        "\n",
        "compare = rl.Compare()\n",
        "compare.string('Должник 292', 'Должник ФССП', label = 'Должник итог')\n",
        "compare.string('ИП формат 292', 'ИП формат ФССП', label = 'Номер ИП итог')\n",
        "compare.string('Взыскатель 292', 'Взыскатель ФССП', label = 'Взыскатель итог')\n",
        "features3 = compare.compute(debtor, non_mathes_1_2, non_fc_matches_1_2)\n",
        "potential_matches3 = features3[(features3['Должник итог'] == 1) & (features3['Номер ИП итог'] == 1) & (features3.sum(axis=1) <3)].reset_index()\n",
        "\n",
        "print('Блок частичного сравнения')\n",
        "print('Количество найденных соответствий запросу (Несоответствие взыскателей (ИП)):', len(potential_matches3))\n",
        "print('Сравнение идёт по полному совпадению должника и ИП')\n",
        "print('')"
      ]
    },
    {
      "cell_type": "code",
      "execution_count": null,
      "metadata": {
        "id": "c7aeiLpsTt8S"
      },
      "outputs": [],
      "source": [
        "non_mathes_1_3 = non_mathes_1_2.drop(potential_matches3['level_0'].array)\n",
        "if 'index' in non_mathes_1_3.columns:\n",
        "    non_mathes_1_3 = non_mathes_1_3.drop('index',axis=1)\n",
        "non_fc_matches_1_3 = non_fc_matches_1_2.drop(potential_matches3['level_1'].array).reset_index(drop=True)\n",
        "\n",
        "if len(potential_matches3)>0:\n",
        "    non_matches_fin_1 = potential_matches3.apply(get_matches, df_lev_0=non_mathes_1_2, df_lev_1=non_fc_matches_1_2, axis=1).reset_index(drop=True)\n",
        "    non_matches_fin_1.columns = non_mathes_1_2.columns.append(non_fc_matches_1_2.columns)\n",
        "    if 'index' in non_matches_fin_1.columns:\n",
        "        non_matches_fin_1 = non_matches_fin_1.drop('index', axis=1)\n",
        "    process_data(non_matches_fin_1)\n",
        "    non_matches_fin_1['Несоответствие'] = 'Взыскатель (по ИП)'\n",
        "else:\n",
        "    non_matches_fin_1 = pd.DataFrame()"
      ]
    },
    {
      "cell_type": "markdown",
      "metadata": {
        "id": "XLOjSOXDTt8S"
      },
      "source": [
        "Несоответствие взыскателей (физ лица)"
      ]
    },
    {
      "cell_type": "code",
      "execution_count": null,
      "metadata": {
        "id": "LR-EeYNaTt8S"
      },
      "outputs": [],
      "source": [
        "indexer = rl.Index()\n",
        "indexer.block(left_on=['Должник 292', 'ИД формат 292'], right_on=['Должник ФССП', 'ИД формат ФССП'])\n",
        "debtor = indexer.index(non_mathes_1_3, non_fc_matches_1_3)\n",
        "\n",
        "compare = rl.Compare()\n",
        "compare.string('Должник 292', 'Должник ФССП', label = 'Должник итог')\n",
        "compare.string('ИП формат 292', 'ИП формат ФССП', label = 'Номер ИП итог')\n",
        "compare.string('ИД формат 292', 'ИД формат ФССП', label = 'Номер ИД итог')\n",
        "compare.string('Взыскатель 292', 'Взыскатель ФССП', label = 'Взыскатель итог')\n",
        "features4 = compare.compute(debtor, non_mathes_1_3, non_fc_matches_1_3)\n",
        "potential_matches4 = features4[(features4['Должник итог'] == 1) & (features4['Номер ИД итог'] == 1)].reset_index()\n",
        "\n",
        "print('Количество найденных соответствий запросу (Несоответствие взыскателей (ИД)):',len(potential_matches4))\n",
        "print('Сравнение идёт по полному совпадению должника и ИД')\n",
        "print('')"
      ]
    },
    {
      "cell_type": "code",
      "execution_count": null,
      "metadata": {
        "id": "q4LZdvO6Tt8S"
      },
      "outputs": [],
      "source": [
        "non_mathes_1_4 = non_mathes_1_3.drop(potential_matches4['level_0'].array)\n",
        "if 'index' in non_mathes_1_4.columns:\n",
        "    non_mathes_1_4 = non_mathes_1_4.drop('index',axis=1)\n",
        "non_fc_matches_1_4 = non_fc_matches_1_3.drop(potential_matches4['level_1'].array).reset_index(drop=True)\n",
        "\n",
        "if len(potential_matches4)>0:\n",
        "    non_matches_fin_2 = potential_matches4.apply(get_matches, df_lev_0=non_mathes_1_3, df_lev_1=non_fc_matches_1_3, axis=1).reset_index(drop=True)\n",
        "    non_matches_fin_2.columns = non_mathes_1_3.columns.append(non_fc_matches_1_3.columns)\n",
        "    if 'index' in non_matches_fin_2.columns:\n",
        "        non_matches_fin_2 = non_matches_fin_2.drop('index', axis=1)\n",
        "    process_data(non_matches_fin_2)\n",
        "    non_matches_fin_2['Несоответствие'] = 'Взыскатель (по ИД)'\n",
        "else:\n",
        "    non_matches_fin_2 = pd.DataFrame()"
      ]
    },
    {
      "attachments": {},
      "cell_type": "markdown",
      "metadata": {},
      "source": [
        "#### Совпадение по ИД > 90%"
      ]
    },
    {
      "cell_type": "code",
      "execution_count": null,
      "metadata": {},
      "outputs": [],
      "source": [
        "indexer = rl.Index()\n",
        "indexer.block(left_on=['Должник 292', 'Взыскатель 292'], right_on=['Должник ФССП', 'Взыскатель ФССП'])\n",
        "debtor = indexer.index(non_mathes_1_4, non_fc_matches_1_4)\n",
        "\n",
        "compare = rl.Compare()\n",
        "compare.string('Должник 292', 'Должник ФССП', label = 'Должник итог')\n",
        "compare.string('ИП формат 292', 'ИП формат ФССП', label = 'Номер ИП итог')\n",
        "compare.string('ИД формат 292', 'ИД формат ФССП', label = 'Номер ИД итог')\n",
        "compare.string('Взыскатель 292', 'Взыскатель ФССП', label = 'Взыскатель итог')\n",
        "features5 = compare.compute(debtor, non_mathes_1_4, non_fc_matches_1_4)\n",
        "potential_matches5 = features5[(features5['Должник итог'] == 1) \n",
        "                               & (features5['Взыскатель итог'] == 1) \n",
        "                               & (features5['Номер ИД итог'] >= 0.8) \n",
        "                               & (features5['Номер ИП итог'] >= 0.5)].reset_index()\n",
        "\n",
        "print('Количество найденных соответствий запросу (Совпадение по ИД > 80%):',len(potential_matches5))\n",
        "print('Сравнение идёт по полному совпадению должника и взскателя, где схождение по ИД превышает 80%')\n",
        "print('а ИП совпадает более чем на 50%')\n",
        "print('Обычно при таком соотношении выпадают разного рода ошибки в буквах')\n",
        "print('В нашем случае - поиск родственников по ИД')\n",
        "print('')"
      ]
    },
    {
      "cell_type": "code",
      "execution_count": null,
      "metadata": {},
      "outputs": [],
      "source": [
        "non_mathes_1_5 = non_mathes_1_4.drop(potential_matches5['level_0'].array)\n",
        "if 'index' in non_mathes_1_5.columns:\n",
        "    non_mathes_1_5 = non_mathes_1_5.drop('index',axis=1)\n",
        "non_fc_matches_1_5 = non_fc_matches_1_4.drop(potential_matches5['level_1'].array).reset_index(drop=True)\n",
        "\n",
        "if len(potential_matches5)>0:\n",
        "    non_matches_fin_3 = potential_matches5.apply(get_matches, df_lev_0=non_mathes_1_4, df_lev_1=non_fc_matches_1_4, axis=1).reset_index(drop=True)\n",
        "    non_matches_fin_3.columns = non_mathes_1_4.columns.append(non_fc_matches_1_4.columns)\n",
        "    if 'index' in non_matches_fin_3.columns:\n",
        "        non_matches_fin_3 = non_matches_fin_3.drop('index', axis=1)\n",
        "    process_data(non_matches_fin_3)\n",
        "    non_matches_fin_3['Несоответствие'] = 'Совпадение по ИД > 80%'\n",
        "else:\n",
        "    non_matches_fin_2 = pd.DataFrame()"
      ]
    },
    {
      "attachments": {},
      "cell_type": "markdown",
      "metadata": {},
      "source": [
        "#### Совпадение по ИП > 90%"
      ]
    },
    {
      "cell_type": "code",
      "execution_count": null,
      "metadata": {},
      "outputs": [],
      "source": [
        "indexer = rl.Index()\n",
        "indexer.block(left_on=['Должник 292', 'Взыскатель 292'], right_on=['Должник ФССП', 'Взыскатель ФССП'])\n",
        "debtor = indexer.index(non_mathes_1_5, non_fc_matches_1_5)\n",
        "\n",
        "compare = rl.Compare()\n",
        "compare.string('Должник 292', 'Должник ФССП', label = 'Должник итог')\n",
        "compare.string('ИП формат 292', 'ИП формат ФССП', label = 'Номер ИП итог')\n",
        "compare.string('ИД формат 292', 'ИД формат ФССП', label = 'Номер ИД итог')\n",
        "compare.string('Взыскатель 292', 'Взыскатель ФССП', label = 'Взыскатель итог')\n",
        "features6 = compare.compute(debtor, non_mathes_1_5, non_fc_matches_1_5)\n",
        "potential_matches6 = features6[(features6['Должник итог'] == 1) \n",
        "                               & (features6['Взыскатель итог'] == 1)\n",
        "                               & (features6['Номер ИП итог'] >= 0.8)\n",
        "                               & (features6['Номер ИД итог'] >= 0.5)].reset_index()\n",
        "\n",
        "print('Количество найденных соответствий запросу (Совпадение по ИД > 80%):',len(potential_matches6))\n",
        "print('Сравнение идёт по полному совпадению должника и взскателя, где схождение по ИП превышает 80%')\n",
        "print('а ИД совпадает более чем на 50%')\n",
        "print('Обычно при таком соотношении выпадают разного рода ошибки в буквах')\n",
        "print('В нашем случае - поиск родственников по ИП')\n",
        "print('')"
      ]
    },
    {
      "cell_type": "code",
      "execution_count": null,
      "metadata": {},
      "outputs": [],
      "source": [
        "non_mathes_1_6 = non_mathes_1_5.drop(potential_matches6['level_0'].array)\n",
        "if 'index' in non_mathes_1_6.columns:\n",
        "    non_mathes_1_6 = non_mathes_1_6.drop('index',axis=1)\n",
        "non_fc_matches_1_6 = non_fc_matches_1_5.drop(potential_matches6['level_1'].array).reset_index(drop=True)\n",
        "\n",
        "if len(potential_matches6)>0:\n",
        "    non_matches_fin_4 = potential_matches6.apply(get_matches, df_lev_0=non_mathes_1_5, df_lev_1=non_fc_matches_1_5, axis=1).reset_index(drop=True)\n",
        "    non_matches_fin_4.columns = non_mathes_1_5.columns.append(non_fc_matches_1_5.columns)\n",
        "    if 'index' in non_matches_fin_4.columns:\n",
        "        non_matches_fin_4 = non_matches_fin_4.drop('index', axis=1)\n",
        "    process_data(non_matches_fin_4)\n",
        "    non_matches_fin_4['Несоответствие'] = 'Совпадение по ИП > 80%'\n",
        "else:\n",
        "    non_matches_fin_2 = pd.DataFrame()"
      ]
    },
    {
      "cell_type": "code",
      "execution_count": null,
      "metadata": {
        "id": "ZTnGtIS2Tt8S"
      },
      "outputs": [],
      "source": [
        "# Объединение неполных соответствий в 1 датафрейм\n",
        "combined_non_matches = pd.concat([non_matches_fin_0, non_matches_fin_1, non_matches_fin_2, non_matches_fin_3, non_matches_fin_4], ignore_index=True)"
      ]
    },
    {
      "cell_type": "markdown",
      "metadata": {
        "id": "hL9V2t2WTt8T"
      },
      "source": [
        "##### Вывод в файл пустых значений (критичных) и неполных соответствий\n",
        "\n",
        "так же я могу добавить сюда 1 файл для записей с совпадающим должником и взыскателем, но разными ИД и ИП\\\n",
        "но он работает, скажем так, долго, и к тому же на 35тыс оставшихся должников находит 100+тыс возможных соответствий\\\n",
        "короче ситуация аналогична полным соответствиям - либо ручками, либо особо замудрёным алгоритмом, либо нужны доп параметры (последнее предпочтительно)\\\n",
        "Если вам это не нужно - просто не запускайте блок ниже"
      ]
    },
    {
      "cell_type": "code",
      "execution_count": null,
      "metadata": {
        "id": "0Cw4LLeYTt8T"
      },
      "outputs": [],
      "source": [
        "print('Другие частичные соответствия искать я не вижу смысла, но если что -пишите')\n",
        "print('')\n",
        "print('И да - частичные соответствия - это соответствия после сверки между отчетом и реестром')\n",
        "print('но данные совпадают в двух из четырех столбцов - в остальних, лишь частично')\n",
        "print('неполные соответствия в свою очередь - строки, для которых соответствий не нашлось')\n",
        "print('-------------------------------------------------------------------------------------------------------------------------------------------------------')\n",
        "print('')"
      ]
    },
    {
      "cell_type": "code",
      "execution_count": null,
      "metadata": {
        "id": "0rzqtjwCTt8T"
      },
      "outputs": [],
      "source": [
        "with pd.ExcelWriter('Пустые данные.xlsx') as writer:\n",
        "    empty_data_292_debtor.to_excel(writer, sheet_name='Пустые должники в отчете', index=False, engine='openpyxl', startrow=0, startcol=0)\n",
        "    empty_data_FCCP_debtor.to_excel(writer, sheet_name='Пустые должники в реестре', index=False, engine='openpyxl', startrow=0, startcol=0)\n",
        "    empty_data_292.to_excel(writer, sheet_name='Пустые ИД и ИП в отчете', index=False, engine='openpyxl', startrow=0, startcol=0)\n",
        "    empty_data_FCCP.to_excel(writer, sheet_name='Пустые ИД и ИП в реестре', index=False, engine='openpyxl', startrow=0, startcol=0)\n",
        "    combined_ed_matches.to_excel(writer, sheet_name='Соотв. между пустыми данными', index=False, engine='openpyxl', startrow=0, startcol=0)\n",
        "    combined_non_matches.to_excel(writer, sheet_name='Частичные соответствия', index=False, engine='openpyxl', startrow=0, startcol=0)"
      ]
    },
    {
      "cell_type": "markdown",
      "metadata": {
        "id": "o0SKeAYQTt8T"
      },
      "source": [
        "Финальная проверка- поиск нигде не задействованных строк"
      ]
    },
    {
      "cell_type": "markdown",
      "metadata": {
        "id": "nRDTClpYTt8T"
      },
      "source": [
        "По отчету"
      ]
    },
    {
      "cell_type": "code",
      "execution_count": null,
      "metadata": {
        "id": "-FbX0bxnTt8T"
      },
      "outputs": [],
      "source": [
        "print('Финальная проверка- поиск нигде не задействованных строк')\n",
        "print('По отчету')\n",
        "print('Всего строк после чистки от (критичных) пустых:',len(filtered_df292_2))\n",
        "print('Всего строк с ненайденными соответствиями:',len(non_mathes_1_6))\n",
        "print('Всего строк с найденными соответствиями:',len(matches_all_1))\n",
        "print('Уникальных строк с найденными соответствиями:',matches_all_1['ID ИП'].nunique())\n",
        "print('')\n",
        "print('Всего строк с некорректными взыскателями (поиск по ИП):',len(non_matches_fin_1))\n",
        "print('Уникальных строк с некорректными взыскателями (поиск по ИП):',non_matches_fin_1['ID ИП'].nunique())\n",
        "print('')\n",
        "print('Всего строк с некорректными взыскателями (поиск по ИД):',len(non_matches_fin_2))\n",
        "print('Уникальных строк с некорректными взыскателями (поиск по ИД):',non_matches_fin_2['ID ИП'].nunique())\n",
        "print('')\n",
        "print('Всего найденных соответствий запросу (Совпадение по ИД > 80%):',len(non_matches_fin_3))\n",
        "print('Уникальных соответствий запросу (Совпадение по ИД > 80%):',non_matches_fin_3['ID ИП'].nunique())\n",
        "print('')\n",
        "print('Всего найденных соответствий запросу (Совпадение по ИП > 80%):',len(non_matches_fin_4))\n",
        "print('Уникальных соответствий запросу (Совпадение по ИП > 80%):',non_matches_fin_4['ID ИП'].nunique())\n",
        "print('')\n",
        "print('Всего строк с некорректными датами:',len(non_matches_fin_0))\n",
        "print('Уникальных строк с некорректными датами:',non_matches_fin_0['ID ИП'].nunique())\n",
        "print('')\n",
        "\n",
        "print('Сравнение числа срок в начальном (отфильтрованном) отчете с суммой разбитых на категории')\n",
        "print(len(filtered_df292_2), len(non_mathes_1_3)+ len(matches_all_1)+ len(non_matches_fin_0)+ len(non_matches_fin_1)+ len(non_matches_fin_2)+ len(non_matches_fin_3)+ len(non_matches_fin_4))\n",
        "print('Разница в строках:', len(filtered_df292_2)-len(non_mathes_1_3)-len(matches_all_1)-len(non_matches_fin_0)-len(non_matches_fin_1)-len(non_matches_fin_2)- len(non_matches_fin_3)- len(non_matches_fin_4))\n",
        "print('')\n",
        "print('-------------------------------------------------------------------------------------------------------------------------------------------------------')"
      ]
    },
    {
      "cell_type": "markdown",
      "metadata": {
        "id": "qtkINMydTt8T"
      },
      "source": [
        "По реестру"
      ]
    },
    {
      "cell_type": "code",
      "execution_count": null,
      "metadata": {
        "id": "Dqkgci_3Tt8T"
      },
      "outputs": [],
      "source": [
        "print('По реестру')\n",
        "print('Всего строк после чистки от (критичных) пустых:',len(dfFCCP_2))\n",
        "print('Всего строк с ненайденными соответствиями:',len(non_fc_matches_1_6))\n",
        "print('Всего строк с найденными соответствиями:',len(matches_all_1))\n",
        "print('Уникальных строк с найденными соответствиями:',matches_all_1['ID ИП'].nunique())\n",
        "print('')\n",
        "print('Всего строк с некорректными взыскателями (поиск по ИП):',len(non_matches_fin_1))\n",
        "print('Уникальных строк с некорректными взыскателями (поиск по ИП):',non_matches_fin_1['ID ИП'].nunique())\n",
        "print('')\n",
        "print('Всего строк с некорректными взыскателями (поиск по ИД):',len(non_matches_fin_2))\n",
        "print('Уникальных строк с некорректными взыскателями (поиск по ИД):',non_matches_fin_2['ID ИП'].nunique())\n",
        "print('')\n",
        "print('Всего найденных соответствий запросу (Совпадение по ИД > 80%):',len(non_matches_fin_3))\n",
        "print('Уникальных соответствий запросу (Совпадение по ИД > 80%):',non_matches_fin_3['ID ИП'].nunique())\n",
        "print('')\n",
        "print('Всего найденных соответствий запросу (Совпадение по ИП > 80%):',len(non_matches_fin_4))\n",
        "print('Уникальных соответствий запросу (Совпадение по ИП > 80%):',non_matches_fin_4['ID ИП'].nunique())\n",
        "print('')\n",
        "print('Всего строк с некорректными датами:',len(non_matches_fin_0))\n",
        "print('Уникальных строк с некорректными датами:',non_matches_fin_0['ID ИП'].nunique())\n",
        "\n",
        "print('Сравнение числа срок в начальном (отфильтрованном) отчете с суммой разбитых на категории')\n",
        "print(len(dfFCCP_2), len(non_fc_matches_1_3)+ len(matches_all_1)+ len(non_matches_fin_0)+ len(non_matches_fin_1)+ len(non_matches_fin_2)+ len(non_matches_fin_3)+ len(non_matches_fin_4))\n",
        "print('Разница в строках:', len(dfFCCP_2)-len(non_fc_matches_1_3)-len(matches_all_1)-len(non_matches_fin_0)-len(non_matches_fin_1)-len(non_matches_fin_2)- len(non_matches_fin_3)- len(non_matches_fin_4))\n",
        "print('')\n",
        "print('-------------------------------------------------------------------------------------------------------------------------------------------------------')"
      ]
    },
    {
      "cell_type": "markdown",
      "metadata": {
        "id": "dR10FKQtTt8U"
      },
      "source": [
        "Итог следующий - на данный момент я не могу избавиться от дубликатов - по двум блокам выше видно, сколько вы их можете найти\\\n",
        "Для того, чтобы я смог обработать всё это должным образом нужно следующее:\n",
        "1. Дополнительные параметры (столбцы, с одинаковыми значениями в обеих эксель, желательно сравнительно корректно заполненные)\n",
        "2. Можно прописать то, как вы выделяете в итоге что из тех или иных дубликатов является корректным\\\n",
        "другими словами - написанная последовательность действий, которую можно реализовать,\\\n",
        " без последующего задействования человеческого фактора для \"посмотреть, что верно\"\n",
        "\n",
        "По большей части всё, больше я с текущими параметрами запроса ничего не выжму - либо редактируйте данные в базе,\\\n",
        "чтобы соответствия всегда были явными, либо присылайте вышеуказанное для доработки.\n",
        "\n",
        "А так удачи!)"
      ]
    },
    {
      "cell_type": "code",
      "execution_count": null,
      "metadata": {
        "id": "w6KpfRUCTt8U"
      },
      "outputs": [],
      "source": [
        "print('Итог следующий - на данный момент я не могу избавиться от дубликатов - по двум блокам выше видно, сколько вы их можете найти')\n",
        "print('Для того, чтобы я смог обработать всё это должным образом нужно следующее:')\n",
        "print('1. Дополнительные параметры (столбцы, с одинаковыми значениями в обеих эксель, желательно сравнительно корректно заполненные)')\n",
        "print('2. Можно прописать то, как вы выделяете в итоге что из тех или иных дубликатов является корректным')\n",
        "print('другими словами - написанная последовательность действий, которую можно реализовать,')\n",
        "print('без последующего задействования человеческого фактора для \"посмотреть, что верно\"')\n",
        "print('')\n",
        "print('По большей части всё, больше я с текущими параметрами запроса ничего не выжму - либо редактируйте данные в базе,')\n",
        "print('чтобы соответствия всегда были явными, либо присылайте вышеуказанное для доработки.')\n",
        "print('')\n",
        "print('А так удачи!)')"
      ]
    },
    {
      "cell_type": "markdown",
      "metadata": {
        "id": "2btSJytJTt8U"
      },
      "source": [
        "#### Блок форматирования\n",
        "\n",
        "non_mathes_1_4 - Неполные соответствия(отчет 292)\\\n",
        "non_fc_matches_1_4 - Ненайденные соответствия(реестр ФССП)\\\n",
        "matches_all_2 - Найденные соответствия\n",
        "\n",
        "В случае, если вы хотите удалить ещё какие-нибудь столбцы - в соответствующих скобках добавьте их через запятую в формате 'Название столбца'"
      ]
    },
    {
      "cell_type": "code",
      "execution_count": null,
      "metadata": {
        "id": "WFX-zC3fTt8U"
      },
      "outputs": [],
      "source": [
        "non_mathes_1_4 = non_mathes_1_3.loc[:, ~non_mathes_1_3.columns.isin(['index', 'level_0',  'ИП формат 292',  'ИД формат 292', 'Должник 292', 'Взыскатель'])]\n",
        "non_fc_matches_1_4 = non_fc_matches_1_3.loc[:, ~non_fc_matches_1_3.columns.isin(['index', 'ИП формат ФССП', 'ИД формат ФССП', 'Должник ФССП', 'Взыскатель2', 'Взыскатель', 'Level_1'])]\n",
        "matches_all_2 = matches_all_1.loc[:, ~matches_all_1.columns.isin(['index', 'level_0', 'ИП формат ФССП', 'ИП формат 292',  'ИД формат 292',\n",
        "                                                                  'ИД формат ФССП', 'Должник 292', 'Должник ФССП', 'Взыскатель2', 'Взыскатель', 'Level_1'])]"
      ]
    },
    {
      "cell_type": "markdown",
      "metadata": {
        "id": "cTQzXxS5Tt8U"
      },
      "source": [
        "#### Вывод в файл\n",
        "в первой строке - название файла (шаблон - 'результат.xlsx')\n",
        "в остальных - название листов\n",
        "\n",
        "можно свободно переименовывать, главное не забывайте прописывать расширение файла и скобки ''"
      ]
    },
    {
      "cell_type": "code",
      "execution_count": null,
      "metadata": {
        "id": "57X4MpiUTt8U"
      },
      "outputs": [],
      "source": [
        "with pd.ExcelWriter('Результат поиска соответствий.xlsx') as writer:\n",
        "    matches_all_2.to_excel(writer, sheet_name='Найденные соответствия', index=False, engine='openpyxl', startrow=0, startcol=0)\n",
        "    non_fc_matches_1_6.to_excel(writer, sheet_name='Ненайденные соответствия(ФССП)', index=False, engine='openpyxl', startrow=0, startcol=0)\n",
        "    non_mathes_1_6.to_excel(writer, sheet_name='Неполные соответствия(о292)', index=False, engine='openpyxl', startrow=0, startcol=0)"
      ]
    },
    {
      "cell_type": "code",
      "execution_count": null,
      "metadata": {
        "id": "5BpQ6wtUTt8U"
      },
      "outputs": [],
      "source": [
        "pd.set_option('display.max_rows', None)\n",
        "#!{sys.executable} -m pip install nbformat -q\n",
        "import nbformat\n",
        "\n",
        "with open('report_292_FCCP.ipynb', 'r', encoding='utf-8') as f:\n",
        "    notebook = nbformat.read(f, as_version=4)\n",
        "\n",
        "# Получаем все ячейки с выходами и объединяем их\n",
        "output_text = ''\n",
        "for cell in notebook.cells:\n",
        "    if 'outputs' in cell and cell['cell_type'] == 'code':\n",
        "        for output in cell['outputs']:\n",
        "            if output.output_type == 'stream' and output.name == 'stdout':\n",
        "                output_text += output.text\n",
        "\n",
        "# Сохраняем выходные данные в файл\n",
        "with open('Текстовые выводы внутри программы.txt', 'w', encoding='utf-8') as out_file:\n",
        "    out_file.write(output_text)"
      ]
    }
  ],
  "metadata": {
    "colab": {
      "provenance": []
    },
    "kernelspec": {
      "display_name": "Python 3",
      "language": "python",
      "name": "python3"
    },
    "language_info": {
      "codemirror_mode": {
        "name": "ipython",
        "version": 3
      },
      "file_extension": ".py",
      "mimetype": "text/x-python",
      "name": "python",
      "nbconvert_exporter": "python",
      "pygments_lexer": "ipython3",
      "version": "3.11.5"
    }
  },
  "nbformat": 4,
  "nbformat_minor": 0
}
