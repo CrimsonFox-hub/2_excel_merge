{
 "cells": [
  {
   "cell_type": "code",
   "execution_count": 132,
   "metadata": {
    "ExecuteTime": {
     "end_time": "2023-10-11T12:30:34.162669500Z",
     "start_time": "2023-10-11T12:30:24.127821400Z"
    }
   },
   "outputs": [
    {
     "name": "stdout",
     "output_type": "stream",
     "text": [
      "Requirement already satisfied: recordlinkage in c:\\users\\nikita.gburcro\\appdata\\roaming\\python\\python311\\site-packages (0.16)\n",
      "Requirement already satisfied: jellyfish>=1 in c:\\users\\nikita.gburcro\\appdata\\roaming\\python\\python311\\site-packages (from recordlinkage) (1.0.1)\n",
      "Requirement already satisfied: numpy>=1.13 in c:\\users\\nikita.gburcro\\appdata\\local\\programs\\python\\python311\\lib\\site-packages (from recordlinkage) (1.26.0)\n",
      "Requirement already satisfied: pandas<3,>=1 in c:\\users\\nikita.gburcro\\appdata\\local\\programs\\python\\python311\\lib\\site-packages (from recordlinkage) (2.1.1)\n",
      "Requirement already satisfied: scipy>=1 in c:\\users\\nikita.gburcro\\appdata\\local\\programs\\python\\python311\\lib\\site-packages (from recordlinkage) (1.11.3)\n",
      "Requirement already satisfied: scikit-learn>=1 in c:\\users\\nikita.gburcro\\appdata\\local\\programs\\python\\python311\\lib\\site-packages (from recordlinkage) (1.3.1)\n",
      "Requirement already satisfied: joblib in c:\\users\\nikita.gburcro\\appdata\\local\\programs\\python\\python311\\lib\\site-packages (from recordlinkage) (1.3.2)\n",
      "Requirement already satisfied: python-dateutil>=2.8.2 in c:\\users\\nikita.gburcro\\appdata\\local\\programs\\python\\python311\\lib\\site-packages (from pandas<3,>=1->recordlinkage) (2.8.2)\n",
      "Requirement already satisfied: pytz>=2020.1 in c:\\users\\nikita.gburcro\\appdata\\local\\programs\\python\\python311\\lib\\site-packages (from pandas<3,>=1->recordlinkage) (2023.3.post1)\n",
      "Requirement already satisfied: tzdata>=2022.1 in c:\\users\\nikita.gburcro\\appdata\\local\\programs\\python\\python311\\lib\\site-packages (from pandas<3,>=1->recordlinkage) (2023.3)\n",
      "Requirement already satisfied: threadpoolctl>=2.0.0 in c:\\users\\nikita.gburcro\\appdata\\local\\programs\\python\\python311\\lib\\site-packages (from scikit-learn>=1->recordlinkage) (3.2.0)\n",
      "Requirement already satisfied: six>=1.5 in c:\\users\\nikita.gburcro\\appdata\\local\\programs\\python\\python311\\lib\\site-packages (from python-dateutil>=2.8.2->pandas<3,>=1->recordlinkage) (1.16.0)\n"
     ]
    }
   ],
   "source": [
    "import sys\n",
    "import re\n",
    "!{sys.executable} -m pip install recordlinkage\n",
    "import recordlinkage as rl\n",
    "import numpy as np\n",
    "import pandas as pd"
   ]
  },
  {
   "cell_type": "code",
   "execution_count": 133,
   "metadata": {
    "ExecuteTime": {
     "end_time": "2023-10-11T12:31:08.818019600Z",
     "start_time": "2023-10-11T12:30:34.165658300Z"
    }
   },
   "outputs": [],
   "source": [
    "df = pd.read_excel('1.xlsx', sheet_name = 'Лист1',  engine='openpyxl')\n",
    "dfFCCP = pd.read_excel('2.xlsx', sheet_name = 'Лист 1', engine='openpyxl')"
   ]
  },
  {
   "cell_type": "code",
   "execution_count": 134,
   "metadata": {},
   "outputs": [
    {
     "name": "stderr",
     "output_type": "stream",
     "text": [
      "C:\\Users\\Nikita.GBURCRO\\AppData\\Local\\Temp\\ipykernel_12868\\2923035830.py:14: FutureWarning: Setting an item of incompatible dtype is deprecated and will raise in a future error of pandas. Value 'Оренбургский филиал АО \"ЭнергосбыТ Плюс\"' has dtype incompatible with float64, please explicitly cast to a compatible dtype first.\n",
      "  dfFCCP.loc[dfFCCP.index.isin(filtered_dfFCCP), 'Взыскатель2.1'] = 'Оренбургский филиал АО \"ЭнергосбыТ Плюс\"'\n"
     ]
    }
   ],
   "source": [
    "df.rename(columns={'Дата1': 'Дата2'}, inplace=True)\n",
    "df['Взыскатель1'] = ''\n",
    "dfFCCP['Взыскатель2'] = ''\n",
    "def write_deptor(row, key, key_true):\n",
    "    if row is not None:\n",
    "        row[key] = str(row[key_true]).lower()\n",
    "    return row\n",
    "\n",
    "dfFCCP = dfFCCP.apply(lambda row: write_deptor(row,'Взыскатель2', 'Взыскатель'), axis=1)\n",
    "\n",
    "keep = ['...']\n",
    "filtered_dfFCCP = dfFCCP[ dfFCCP['Взыскатель2'].str.contains('| '.join(keep))].index\n",
    "\n",
    "dfFCCP.loc[dfFCCP.index.isin(filtered_dfFCCP), 'Взыскатель2.1'] = '...'\n",
    "dfFCCP.loc[~dfFCCP.index.isin(filtered_dfFCCP), 'Взыскатель2.1'] = '...'\n",
    "dfFCCP['Взыскатель2.1'] = dfFCCP['Взыскатель2.1'].astype(str)"
   ]
  },
  {
   "cell_type": "code",
   "execution_count": 135,
   "metadata": {},
   "outputs": [],
   "source": [
    "df['Должник1'] = ''\n",
    "dfFCCP['Должник ф'] = ''\n",
    "def write_deptor(row, key, key_true, key_false):\n",
    "    if row is not None:\n",
    "        row[key] = str(row[key_true]).lower()\n",
    "    else:\n",
    "        row[key] = str(row[key_false]).lower()\n",
    "    return row\n",
    "        \n",
    "df = df.apply(lambda row: write_deptor(row,'Должник1', 'Ответчик', 'ФИО должника'), axis=1)\n",
    "dfFCCP = dfFCCP.apply(lambda row: write_deptor(row,'Должник ф', 'Должник', 'Должник.1'), axis=1)"
   ]
  },
  {
   "cell_type": "code",
   "execution_count": 136,
   "metadata": {},
   "outputs": [],
   "source": [
    "df[\"match1\"] = df['Номер ИП'].apply(lambda x: re.search(r'(\\d{5,6}/\\d{2,4}/\\d{5,6})(-ИП)', str(x)))\n",
    "df[\"match2\"] = df['Номер ИП'].apply(lambda x: re.search(r'(\\d{5,6}/\\d{2,4}/\\d{5,6})', str(x)))\n",
    "\n",
    "def matchIP(row):\n",
    "    if row['match1'] is not None: \n",
    "        return row['match1'].group(1) + '-ИП'\n",
    "    elif row['match2'] is not None:\n",
    "        return row['match2'].group(0) + '-ИП'\n",
    "    else:\n",
    "        return None\n",
    "\n",
    "df['ИП формат1']  = df.apply(matchIP, axis=1)\n",
    "df = df.drop(['match1', 'match2'], axis=1)"
   ]
  },
  {
   "cell_type": "code",
   "execution_count": 137,
   "metadata": {},
   "outputs": [],
   "source": [
    "df[\"match1\"] = df['Номер'].apply(lambda x: re.search(r'(\\d{1,2}-\\d{3,4}/\\d{2,3}/)(\\d{2,4})', str(x)))\n",
    "df[\"match2\"] = df['Номер'].apply(lambda x: re.search(r'(\\d{1,2}-\\d{1,2}-\\d{4,5}/)(\\d{2,4})', str(x)))\n",
    "df[\"match3\"] = df['Номер'].apply(lambda x: re.search(r'(\\D+)(\\d{9})', str(x)))\n",
    "df[\"match4\"] = df['Номер'].apply(lambda x: re.search(r'(А47-\\d{3,4}/\\d{2,4})', str(x)))\n",
    "# Проход по каждой строке и поиск номеров ИД формата\n",
    "\n",
    "\n",
    "def matchID(row):\n",
    "    if row['match1'] is not None:\n",
    "        return row['match1'].group(1)\n",
    "    elif row['match2'] is not None:\n",
    "        return row['match2'].group(1)\n",
    "    elif row['match3'] is not None:\n",
    "        return row['match3'].group(2)\n",
    "    elif row['match4'] is not None:\n",
    "        return row['match4'].group(0)\n",
    "    else: return None\n",
    "    \n",
    "df['Номер ИД формат1'] = df.apply(matchID, axis=1)\n",
    "df = df.drop(['match1', 'match2', 'match3', 'match4'], axis=1)"
   ]
  },
  {
   "cell_type": "code",
   "execution_count": 148,
   "metadata": {},
   "outputs": [],
   "source": [
    "dfFCCP[\"match1\"] = dfFCCP['Регистрационный номер '].apply(lambda x: re.search(r'(\\d{5,6}/\\d{2,4}/\\d{5,6})(-ИП)', str(x)))\n",
    "dfFCCP[\"match2\"] = dfFCCP['Регистрационный номер '].apply(lambda x: re.search(r'(\\d{5,6}/\\d{2,4}/\\d{5,6})', str(x)))\n",
    "\n",
    "dfFCCP['ИП формат2']  = dfFCCP.apply(matchIP, axis=1)\n",
    "dfFCCP = dfFCCP.drop(['match1', 'match2'], axis=1)\n",
    "\n",
    "dfFCCP[\"match1\"] = dfFCCP['Номер ИД'].apply(lambda x: re.search(r'(\\d{1,2}-\\d{3,4}/\\d{2,3}/)(\\d{2,4})', str(x)))\n",
    "dfFCCP[\"match2\"] = dfFCCP['Номер ИД'].apply(lambda x: re.search(r'(\\d{1,2}-\\d{1,2}-\\d{4,5}/)(\\d{2,4})', str(x)))\n",
    "dfFCCP[\"match3\"] = dfFCCP['Номер ИД'].apply(lambda x: re.search(r'(\\D+)(\\d{9})', str(x)))\n",
    "dfFCCP[\"match4\"] = dfFCCP['Номер ИД'].apply(lambda x: re.search(r'(А47-\\d{3,4}/\\d{2,4})', str(x)))\n",
    "# Проход по каждой строке и поиск номеров ИД формата\n",
    "\n",
    "dfFCCP['Номер ИД формат2'] = dfFCCP.apply(matchID, axis=1)\n",
    "dfFCCP = dfFCCP.drop(['match1', 'match2', 'match3', 'match4'], axis=1)\n",
    "\n",
    "filtered_df292 = df[df[\"Статус ИП\"].isin([\"Возбуждено\", \"Подано\"])& (~df['Поставщик (взыскатель)'].isna())].reset_index()\n",
    "dfFCCP = dfFCCP.reset_index(drop=True)"
   ]
  },
  {
   "cell_type": "code",
   "execution_count": 147,
   "metadata": {},
   "outputs": [
    {
     "name": "stdout",
     "output_type": "stream",
     "text": [
      "583\n"
     ]
    }
   ],
   "source": [
    "indexer = rl.Index()\n",
    "indexer.block(left_on=['Должник1', 'Номер ИД формат1', 'Поставщик (взыскатель)'], right_on=['Должник ф', 'Номер ИД формат2', 'Взыскатель2.1'])\n",
    "debtor = indexer.index(filtered_df292, dfFCCP)\n",
    "print(len(debtor))\n",
    "\n",
    "compare = rl.Compare()\n",
    "compare.exact('Должник1', 'Должник ф', label = 'Должник')\n",
    "compare.exact('Номер ИД формат1', 'Номер ИД формат2', label = 'Номер ИД рез')\n",
    "compare.exact('Поставщик (взыскатель)', 'Взыскатель2.1', label = 'Взыскатель')\n",
    "features = compare.compute(debtor, filtered_df292, dfFCCP)\n",
    "potential_matches = features[features.sum(axis=1) > 1].reset_index()\n",
    "\n",
    "potential_matches['level_0'] = pd.to_numeric(potential_matches['level_0'])\n",
    "potential_matches['level_1'] = pd.to_numeric(potential_matches['level_1'])\n",
    "potential_matches['sum'] = potential_matches['Взыскатель']+potential_matches['Должник']+potential_matches['Номер ИД рез'] \n",
    "potential_matches['p0'] = potential_matches[potential_matches['Взыскатель'] is None, 'p0'] = potential_matches['level_1']"
   ]
  },
  {
   "cell_type": "code",
   "execution_count": 140,
   "metadata": {},
   "outputs": [],
   "source": [
    "matches_index = potential_matches[['level_0', 'level_1', 'sum']]\n",
    "non_matches = filtered_df292.copy().drop(matches_index['level_0'].array).reset_index().drop(['level_0'], axis=1)\n",
    "non_fc_matches = dfFCCP.copy().drop(matches_index[matches_index['level_1'] != potential_matches['p0']]['level_1'].array).reset_index()\n",
    "\n",
    "def get_matches(row, df_lev_0, df_lev_1 ):\n",
    "    row292 = df_lev_0.iloc[row['level_0']]\n",
    "    rowFCCP = df_lev_1.iloc[row['level_1']]\n",
    "    return pd.Series(pd.concat([row292, rowFCCP]))\n",
    "\n",
    "matches = matches_index.apply(lambda row: get_matches(row, filtered_df292, dfFCCP), axis=1).reset_index()"
   ]
  },
  {
   "cell_type": "code",
   "execution_count": 141,
   "metadata": {},
   "outputs": [],
   "source": [
    "indexer = rl.Index()\n",
    "indexer.block(left_on=['Должник1', 'ИП формат1'], right_on=['Должник ф', 'ИП формат2'])\n",
    "debtor = indexer.index(non_matches, non_fc_matches)\n",
    "len(debtor)\n",
    "\n",
    "compare = rl.Compare()\n",
    "compare.exact('Должник1', 'Должник ф', label = 'Должник')\n",
    "compare.string('ИП формат1', 'ИП формат2', label = 'Номер ИП рез')\n",
    "compare.exact('Поставщик (взыскатель)', 'Взыскатель2.1', label = 'Взыскатель')\n",
    "features = compare.compute(debtor, non_matches, non_fc_matches)\n",
    "potential_matches = features[features.sum(axis=1) > 1].reset_index(drop=True)"
   ]
  },
  {
   "cell_type": "code",
   "execution_count": 142,
   "metadata": {
    "ExecuteTime": {
     "end_time": "2023-10-11T12:31:09.557445200Z",
     "start_time": "2023-10-11T12:31:08.819932300Z"
    }
   },
   "outputs": [],
   "source": [
    "try:\n",
    "    matches_index2 = potential_matches[['level_0', 'level_1']]\n",
    "    non_fc_matches_all = non_fc_matches.drop(matches_index2['level_1'].array).reset_index()\n",
    "    matches_index2, non_fc_matches_all = non_fc_matches_all.align(non_fc_matches_all, axis=1, copy=False)\n",
    "    matches2 = matches_index2.apply(lambda row: get_matches(row, non_matches, dfFCCP), axis=1).reset_index()\n",
    "    matches_all = pd.concat([matches, matches2], ignore_index=True)\n",
    "\n",
    "except:\n",
    "    non_fc_matches_all = non_fc_matches\n",
    "    matches_all = matches_index.apply(lambda row: get_matches(row, filtered_df292, dfFCCP), axis=1).reset_index()\n",
    "    \n",
    "matches_all['Дата1'] = pd.to_datetime(matches_all['Дата1'], dayfirst=True).dt.strftime('%d.%m.%Y %H:%M:%S')\n",
    "matches_all['Дата2'] = pd.to_datetime(matches_all['Дата2'], dayfirst=True).dt.strftime('%d.%m.%Y %H:%M:%S')    "
   ]
  },
  {
   "cell_type": "code",
   "execution_count": 143,
   "metadata": {},
   "outputs": [],
   "source": [
    "matches_all['Дата1'] = matches_all['Дата1'].fillna('30.12.2050 00:00:00')\n",
    "matches_all['Дата2'] = matches_all['Дата2'].fillna('30.12.2050 00:00:00')"
   ]
  },
  {
   "cell_type": "code",
   "execution_count": 144,
   "metadata": {},
   "outputs": [],
   "source": [
    "matches_all_1 = matches_all[pd.to_datetime(matches_all['Дата1'], dayfirst=True) <= pd.to_datetime(matches_all['Дата2'], dayfirst=True)]\n",
    "matches_all_2 = matches_all_1.loc[(matches_all_1.groupby(['Должник1', 'Номер ИД формат1'])['Дата подачи в суд']\n",
    "                                                                                      .transform('max')  == matches_all_1['Дата1'])]\n",
    "matches_all_3 = matches_all_2.loc[(matches_all_2.groupby(['Должник1', 'Номер ИД формат1'])['Дата подачи в суд']\n",
    "                                                                                      .transform('max')  == matches_all_2['Дата1'])]\n",
    "non_matches_f_1 = non_fc_matches_all.loc[(non_fc_matches_all['Статус'] =='Отказан') & (non_fc_matches_all.groupby(['Должник ф', 'Номер ИД формат2'])['Дата окончания']\n",
    "                                                                                      .transform('max')  == non_fc_matches_all['Дата окончания'])]\n",
    "non_matches_f_2 = non_matches_f_1.loc[(non_fc_matches_all['Статус'] =='Отказан') & (non_fc_matches_all.groupby(['Должник ф', 'ИП формат2'])['Дата окончания']\n",
    "                                                                                      .transform('max')  == non_fc_matches_all['Дата окончания'])]                                                                                      \n",
    "non_matches_f_3 = non_fc_matches_all.loc[(non_fc_matches_all['Статус']!='Отказан')&(non_fc_matches_all.groupby(['Должник ф', 'Номер ИД формат2'])['Дата возбуждения']\n",
    "                                                                                      .transform('max')  == non_fc_matches_all['Дата 2'])]\n",
    "non_matches_f_4 = non_matches_f_3.loc[(non_fc_matches_all['Статус']!='Отказан')&(non_fc_matches_all.groupby(['Должник ф', 'ИП формат2'])['Дата возбуждения']\n",
    "                                                                                      .transform('max')  == non_fc_matches_all['Дата 2'])]\n",
    "non_matches_f_5 = pd.concat([non_matches_f_2,non_matches_f_4], ignore_index=True)"
   ]
  },
  {
   "cell_type": "code",
   "execution_count": 145,
   "metadata": {},
   "outputs": [],
   "source": [
    "non_matches2 = non_matches_f_5.loc[:, ~non_fc_matches_all.columns.isin(['index', 'ИП формат2', 'Номер ИД формат2', 'Должник ф', 'Взыскатель2', 'Взыскатель'])]\n",
    "matches_all_3 = matches_all_1.loc[:, ~matches_all.columns.isin(['index', 'level_0', 'ИП формат2', 'ИП формат1',  'Номер ИД формат1',  'Номер ИД формат2', 'Должник1', 'Должник ф', 'Взыскатель2', 'Взыскатель'])]"
   ]
  },
  {
   "cell_type": "code",
   "execution_count": 146,
   "metadata": {
    "ExecuteTime": {
     "end_time": "2023-10-11T12:32:05.357898200Z",
     "start_time": "2023-10-11T12:31:55.591948900Z"
    }
   },
   "outputs": [],
   "source": [
    "with pd.ExcelWriter('результат.xlsx') as writer:\n",
    "    pd.DataFrame(matches_all_3).to_excel(writer, sheet_name='Лист 1', index=False)\n",
    "    pd.DataFrame(non_matches_f_5).to_excel(writer, sheet_name='Лист 2', index=False)"
   ]
  }
 ],
 "metadata": {
  "kernelspec": {
   "display_name": "base",
   "language": "python",
   "name": "python3"
  },
  "language_info": {
   "codemirror_mode": {
    "name": "ipython",
    "version": 3
   },
   "file_extension": ".py",
   "mimetype": "text/x-python",
   "name": "python",
   "nbconvert_exporter": "python",
   "pygments_lexer": "ipython3",
   "version": "3.11.5"
  },
  "orig_nbformat": 4
 },
 "nbformat": 4,
 "nbformat_minor": 2
}
